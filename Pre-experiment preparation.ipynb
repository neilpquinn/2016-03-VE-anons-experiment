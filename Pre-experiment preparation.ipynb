{
 "cells": [
  {
   "cell_type": "markdown",
   "metadata": {},
   "source": [
    "Before the experiment actually begins, I want to test some assumptions and check out some baseline data.\n",
    "\n",
    "# Sample of anonymous edits\n",
    "First, let me create a baseline dataset of anonymous edits on the English Wikipedia. A week of edits (from Monday, 22 February to Sunday, 28 February) should work well.\n",
    "\n",
    "```\n",
    "mysql -e \"\n",
    "SELECT\n",
    "    rev_id,\n",
    "    rev_user_text,\n",
    "    rev_timestamp,\n",
    "    rev_comment\n",
    "FROM enwiki.revision\n",
    "WHERE\n",
    "    rev_user = 0 AND\n",
    "    rev_timestamp >= \"20160322\" AND\n",
    "    rev_timestamp < \"20160329\"\n",
    ";\" -h analytics-store.eqiad.wmnet > ~/Baseline_anonymous_edits.tsv\n",
    "```"
   ]
  }
 ],
 "metadata": {
  "kernelspec": {
   "display_name": "Python 3",
   "language": "python",
   "name": "python3"
  },
  "language_info": {
   "codemirror_mode": {
    "name": "ipython",
    "version": 3
   },
   "file_extension": ".py",
   "mimetype": "text/x-python",
   "name": "python",
   "nbconvert_exporter": "python",
   "pygments_lexer": "ipython3",
   "version": "3.5.1"
  }
 },
 "nbformat": 4,
 "nbformat_minor": 0
}
